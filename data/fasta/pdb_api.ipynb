{
 "cells": [
  {
   "cell_type": "code",
   "execution_count": 6,
   "metadata": {},
   "outputs": [],
   "source": [
    "# REST-BASED API\n",
    "import json\n",
    "import requests\n",
    "\n",
    "# output_file = \"4HHB_A.txt\"\n",
    "url = \"https://data.rcsb.org/rest/v1/core/polymer_entity_instance/1D2A/A\"\n",
    "\n",
    "response = requests.get(url)\n",
    "\n",
    "if response.status_code == 200:\n",
    "    # with open(output_file, \"wb\") as f:\n",
    "    #     f.write(response.content)\n",
    "    data = json.loads(response.text)\n",
    "    with open(\"1D2A_A.json\", \"w\") as output_file:\n",
    "        json.dump(data, output_file, indent=4, ensure_ascii=False)\n",
    "else:  \n",
    "    print(\"404\")"
   ]
  },
  {
   "cell_type": "code",
   "execution_count": 8,
   "metadata": {},
   "outputs": [],
   "source": [
    "import os\n",
    "\n",
    "file_path = \"../crossdocked_pocket10/\"\n",
    "\n",
    "for ff in os.listdir(file_path):\n",
    "    if os.path.isfile(os.path.join(file_path, ff)): continue\n",
    "    # if len(ff.split(\"_\")) < 2: continue\n",
    "    num = int(ff.split(\"_\")[2])\n",
    "    if num == 0: print(ff)"
   ]
  },
  {
   "cell_type": "code",
   "execution_count": 12,
   "metadata": {},
   "outputs": [
    {
     "name": "stdout",
     "output_type": "stream",
     "text": [
      "{'data': {'entry': {'exptl': [{'method': 'X-RAY DIFFRACTION'}]}}}\n"
     ]
    }
   ],
   "source": [
    "import requests\n",
    "import json\n",
    "\n",
    "url = \"https://data.rcsb.org/graphql\"\n",
    "headers = {\"Content-Type\": \"application/json\"}\n",
    "data_request = {\n",
    "  \"query\": \"query($id: String!){entry(entry_id:$id){exptl{method}}}\",\n",
    "  \"variables\": {\"id\": \"4HHB\"}\n",
    "}\n",
    "\n",
    "response = requests.post(url, headers=headers, data=json.dumps(data_request))\n",
    "if response.status_code == 200:  \n",
    "    print(response.json())  \n",
    "else:  \n",
    "    print(\"Error:\", response.status_code, response.text)\n",
    "\n",
    "# url = \"https://data.rcsb.org/graphql?query={entry(entry_id:\\\"4HHB\\\"){exptl{method}}}\"\n",
    "# response = requests.get(url)\n",
    "# if response.status_code == 200:\n",
    "#     print(response.json())"
   ]
  }
 ],
 "metadata": {
  "kernelspec": {
   "display_name": "Pocket2Mol",
   "language": "python",
   "name": "python3"
  },
  "language_info": {
   "codemirror_mode": {
    "name": "ipython",
    "version": 3
   },
   "file_extension": ".py",
   "mimetype": "text/x-python",
   "name": "python",
   "nbconvert_exporter": "python",
   "pygments_lexer": "ipython3",
   "version": "3.8.16"
  },
  "orig_nbformat": 4
 },
 "nbformat": 4,
 "nbformat_minor": 2
}
